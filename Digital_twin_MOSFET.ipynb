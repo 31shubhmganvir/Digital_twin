{
  "cells": [
    {
      "cell_type": "code",
      "execution_count": null,
      "id": "c86c66db-8cc5-424f-bc9d-7e79e920dea8",
      "metadata": {
        "id": "c86c66db-8cc5-424f-bc9d-7e79e920dea8"
      },
      "outputs": [],
      "source": [
        "import tensorflow as tf, numpy as np, matplotlib.pyplot as plt\n",
        "import pandas as pd"
      ]
    },
    {
      "cell_type": "code",
      "execution_count": null,
      "id": "31addb0d-bd18-4450-91bb-995b3a74315d",
      "metadata": {
        "id": "31addb0d-bd18-4450-91bb-995b3a74315d"
      },
      "outputs": [],
      "source": [
        "def sub_vth(w_l,vgs,vth,temp=300):\n",
        "    \"\"\"\n",
        "    Helper function to calculate sub-vth current analytically.\n",
        "\n",
        "    Uses randomized parameters to mimic\n",
        "    measurement noise and manufacturing/material variability\n",
        "    \"\"\"\n",
        "    # Electron charge\n",
        "    q = 1.60218e-19\n",
        "    # Boltzman constant\n",
        "    k = 1.3806e-23\n",
        "    # Capacitance factor (randomized to mimic manufacturing variability)\n",
        "    eta = 1.2+0.01*np.random.normal()\n",
        "    # Mobility factor/coefficient (randomized to mimic material and manufacturing variability)\n",
        "    w_l = w_l*(1+0.01*np.random.normal())\n",
        "\n",
        "    return w_l*np.exp(q*(vgs-vth)/(eta*k*temp))"
      ]
    },
    {
      "cell_type": "code",
      "execution_count": null,
      "id": "353f91d2-cbd4-425b-8e8c-9990c8d9e277",
      "metadata": {
        "id": "353f91d2-cbd4-425b-8e8c-9990c8d9e277"
      },
      "outputs": [],
      "source": [
        "class MOSFET:\n",
        "    def __init__(self,params=None,terminals=None):\n",
        "\n",
        "        # Params\n",
        "        if params is None:\n",
        "            self._params_ = {'BV':20,\n",
        "                             'Vth':1.0,\n",
        "                             'gm':1e-2}\n",
        "        else:\n",
        "            self._params_ = params\n",
        "\n",
        "        # Terminals\n",
        "        if terminals is None:\n",
        "            self._terminals_ = {'source':0.0,\n",
        "                        'drain':0.0,\n",
        "                        'gate':0.0}\n",
        "        else:\n",
        "            self._terminals_ = terminals\n",
        "\n",
        "        # Determine state\n",
        "        self._state_ = self.determine_state()\n",
        "\n",
        "        # Leakage model trained?\n",
        "        self._leakage_ = False\n",
        "        self.leakage_model = None\n",
        "\n",
        "    def __repr__(self):\n",
        "        return \"Digital Twin of a MOSFET\"\n",
        "\n",
        "    def determine_state(self,vgs=None):\n",
        "        \"\"\"\n",
        "        \"\"\"\n",
        "        if vgs is None:\n",
        "            vgs = self._terminals_['gate'] - self._terminals_['source']\n",
        "        else:\n",
        "            vgs = vgs\n",
        "        if vgs > self._params_['Vth']:\n",
        "            return 'ON'\n",
        "        else:\n",
        "            return 'OFF'\n",
        "\n",
        "    def id_vd(self,vgs=None,vds=None,rounding=True):\n",
        "        \"\"\"\n",
        "        Calculates drain-source current from terminal voltages and gm\n",
        "        \"\"\"\n",
        "        if vds is None:\n",
        "            vds = self._terminals_['drain'] - self._terminals_['source']\n",
        "        else:\n",
        "            vds = vds\n",
        "        if vgs is None:\n",
        "            vgs = self._terminals_['gate'] - self._terminals_['source']\n",
        "        else:\n",
        "            vgs = vgs\n",
        "\n",
        "        vth = self._params_['Vth']\n",
        "        state = self.determine_state(vgs=vgs)\n",
        "        self._state_ = state\n",
        "\n",
        "        if state=='ON':\n",
        "            if vds <= vgs - vth:\n",
        "                ids = self._params_['gm']*(vgs - vth - (vds/2))*vds\n",
        "            else:\n",
        "                ids = (self._params_['gm']/2)*(vgs-vth)**2\n",
        "            if rounding:\n",
        "                return round(ids,3)\n",
        "            else:\n",
        "                return ids\n",
        "        else:\n",
        "            return sub_vth(w_l=self._params_['gm'],\n",
        "                           vgs=vgs,\n",
        "                           vth=vth)\n",
        "            #return 0.0\n",
        "\n",
        "    def rdson(self,vgs=None,vds=None):\n",
        "        \"\"\"\n",
        "        Calculates Rdson i.e. on-state resistance of the MOSFET\n",
        "        \"\"\"\n",
        "        if vds is None:\n",
        "            vds = self._terminals_['drain'] - self._terminals_['source']\n",
        "        else:\n",
        "            vds = vds\n",
        "        if vgs is None:\n",
        "            vgs = self._terminals_['gate'] - self._terminals_['source']\n",
        "        else:\n",
        "            vgs = vgs\n",
        "\n",
        "        ids = self.id_vd(vgs=vgs,vds=vds,rounding=False)\n",
        "        vds_delta = vds+0.001\n",
        "        ids_delta = self.id_vd(vgs=vgs,vds=vds_delta,rounding=False)\n",
        "        rdson = 0.001/(ids_delta-ids)\n",
        "\n",
        "        return round(rdson,3)\n",
        "\n",
        "    def train_leakage(self,data=None,\n",
        "                      batch_size=5,\n",
        "                      epochs=20,\n",
        "                      learning_rate=2e-5,\n",
        "                      verbose=1):\n",
        "        \"\"\"\n",
        "        Trains the digital twin for leakage current model with experimental data\n",
        "        Args:\n",
        "            data: The training data, expected as a Pandas DataFrame\n",
        "            batch_size (int): Training batch size\n",
        "            epochs (int): Number of epochs for training\n",
        "            learning_rate (float): Learning rate for training\n",
        "            verbose (0 or 1): Verbosity of display while training\n",
        "        \"\"\"\n",
        "        if data is None:\n",
        "            return \"No data to train with\"\n",
        "        X_train_scaled, X_test_scaled, \\\n",
        "        y_train_scaled, y_test_scaled = prepare_data(data,\n",
        "                                             input_cols=['w_l','vgs','vth'],\n",
        "                                             output_var='log-leakage',\n",
        "                                                     scaley=False)\n",
        "        # Deep-learning model\n",
        "        model = build_model(num_layers=3,\n",
        "                            architecture=[32,32,32],\n",
        "                            input_dim=3)\n",
        "        # Compile and train\n",
        "        model_trained = compile_train_model(model,\n",
        "                                            X_train_scaled,\n",
        "                                            y_train_scaled,\n",
        "                                            batch_size=batch_size,\n",
        "                                            epochs=epochs,\n",
        "                                            learning_rate=learning_rate,\n",
        "                                            verbose=verbose)\n",
        "        self.leakage_model = model_trained\n",
        "        self._leakage_ = True\n",
        "\n",
        "    def leakage(self,\n",
        "                w_l=1e-2,\n",
        "                vgs=None,\n",
        "                vth=None):\n",
        "        \"\"\"\n",
        "        Calculates leakage current using the deep learning model\n",
        "        \"\"\"\n",
        "        if not self._leakage_:\n",
        "            return \"Leakage model is not trained yet\"\n",
        "        # Vgs\n",
        "        if vgs is None:\n",
        "            vgs = self._terminals_['gate'] - self._terminals_['source']\n",
        "        else:\n",
        "            vgs = vgs\n",
        "        # Vth\n",
        "        if vth is None:\n",
        "            vth = self._params_['Vth']\n",
        "        else:\n",
        "            vth = vth\n",
        "        # Predict\n",
        "        x = np.array([w_l,vgs,vth])\n",
        "        ip = x.reshape(-1,3)\n",
        "        result = float(10**(-self.leakage_model.predict(ip)))\n",
        "\n",
        "        return result\n",
        "\n",
        "\n",
        "        mosfet = MOSFET()\n",
        "        mosfet"
      ]
    },
    {
      "cell_type": "markdown",
      "id": "ba120367-d77a-4976-aa9e-a37136b4d1af",
      "metadata": {
        "id": "ba120367-d77a-4976-aa9e-a37136b4d1af"
      },
      "source": [
        "## A `MOSFET` object"
      ]
    },
    {
      "cell_type": "code",
      "execution_count": null,
      "id": "7d0d5b42-1372-43d0-9e04-f88f15d5ce91",
      "metadata": {
        "colab": {
          "base_uri": "https://localhost:8080/"
        },
        "id": "7d0d5b42-1372-43d0-9e04-f88f15d5ce91",
        "outputId": "38e5edf8-16d2-4b89-970f-8b93ea7bc9c6"
      },
      "outputs": [
        {
          "output_type": "execute_result",
          "data": {
            "text/plain": [
              "{'BV': 20, 'Vth': 1.0, 'gm': 0.01}"
            ]
          },
          "metadata": {},
          "execution_count": 187
        }
      ],
      "source": [
        "mosfet._params_"
      ]
    },
    {
      "cell_type": "markdown",
      "id": "330b4dea-a96c-4057-8ff7-0c0aebfa56d9",
      "metadata": {
        "id": "330b4dea-a96c-4057-8ff7-0c0aebfa56d9"
      },
      "source": [
        "## Object state changes as terminal voltage assignment varies"
      ]
    },
    {
      "cell_type": "code",
      "execution_count": null,
      "id": "82b2500a-57b5-4816-bb92-9f87ac24a663",
      "metadata": {
        "id": "82b2500a-57b5-4816-bb92-9f87ac24a663"
      },
      "outputs": [],
      "source": [
        "mosfet = MOSFET(terminals={'source':0.0,\n",
        "            'drain':0.0,\n",
        "            'gate':2.0},\n",
        "           params={'BV':20,\n",
        "                   'Vth':1.0,\n",
        "                   'gm':1e-2})"
      ]
    },
    {
      "cell_type": "code",
      "execution_count": null,
      "id": "30d4dde2-9653-4007-a746-39a05b0cc5fb",
      "metadata": {
        "colab": {
          "base_uri": "https://localhost:8080/",
          "height": 35
        },
        "id": "30d4dde2-9653-4007-a746-39a05b0cc5fb",
        "outputId": "1af50f02-3697-457e-943b-73d30bd9fda4"
      },
      "outputs": [
        {
          "output_type": "execute_result",
          "data": {
            "text/plain": [
              "'ON'"
            ],
            "application/vnd.google.colaboratory.intrinsic+json": {
              "type": "string"
            }
          },
          "metadata": {},
          "execution_count": 189
        }
      ],
      "source": [
        "mosfet._state_"
      ]
    },
    {
      "cell_type": "code",
      "execution_count": null,
      "id": "7d874141-5ef5-49d4-b23d-204fe4eecbf3",
      "metadata": {
        "id": "7d874141-5ef5-49d4-b23d-204fe4eecbf3"
      },
      "outputs": [],
      "source": [
        "mosfet = MOSFET(terminals={'source':0.0,\n",
        "            'drain':0.0,\n",
        "            'gate':2.0},\n",
        "            params={'BV':20,\n",
        "                   'Vth':1.0,\n",
        "                   'gm':1e-2})"
      ]
    },
    {
      "cell_type": "code",
      "execution_count": null,
      "id": "a8a0ac93-370e-4262-8701-c5c7fc0803f7",
      "metadata": {
        "colab": {
          "base_uri": "https://localhost:8080/",
          "height": 35
        },
        "id": "a8a0ac93-370e-4262-8701-c5c7fc0803f7",
        "outputId": "043a1d60-8921-48f1-c2ed-c65ad7cb5453"
      },
      "outputs": [
        {
          "output_type": "execute_result",
          "data": {
            "text/plain": [
              "'ON'"
            ],
            "application/vnd.google.colaboratory.intrinsic+json": {
              "type": "string"
            }
          },
          "metadata": {},
          "execution_count": 191
        }
      ],
      "source": [
        "mosfet._state_"
      ]
    },
    {
      "cell_type": "markdown",
      "id": "e127c407-15ac-4b0e-92cd-8de948d001da",
      "metadata": {
        "id": "e127c407-15ac-4b0e-92cd-8de948d001da"
      },
      "source": [
        "## Id-Vd"
      ]
    },
    {
      "cell_type": "code",
      "execution_count": null,
      "id": "b1916766-e8d4-479e-8293-c1f373e79d45",
      "metadata": {
        "colab": {
          "base_uri": "https://localhost:8080/"
        },
        "id": "b1916766-e8d4-479e-8293-c1f373e79d45",
        "outputId": "be372086-6019-47c6-9126-2d833299dfe6"
      },
      "outputs": [
        {
          "output_type": "execute_result",
          "data": {
            "text/plain": [
              "6.310890943747286e-14"
            ]
          },
          "metadata": {},
          "execution_count": 192
        }
      ],
      "source": [
        "mosfet.id_vd(vgs=0.2,vds=2.0)"
      ]
    },
    {
      "cell_type": "code",
      "execution_count": null,
      "id": "0a9251ef-df26-414e-aeb5-c06f7e71ecab",
      "metadata": {
        "colab": {
          "base_uri": "https://localhost:8080/"
        },
        "id": "0a9251ef-df26-414e-aeb5-c06f7e71ecab",
        "outputId": "4f0f0770-788b-44db-8d20-7d201bebe4b6"
      },
      "outputs": [
        {
          "output_type": "execute_result",
          "data": {
            "text/plain": [
              "0.009"
            ]
          },
          "metadata": {},
          "execution_count": 193
        }
      ],
      "source": [
        "mosfet.id_vd(vgs=3.0,vds=0.5)"
      ]
    },
    {
      "cell_type": "code",
      "execution_count": null,
      "id": "37011527-c16b-41c2-910d-bf747db26a65",
      "metadata": {
        "colab": {
          "base_uri": "https://localhost:8080/"
        },
        "id": "37011527-c16b-41c2-910d-bf747db26a65",
        "outputId": "e0b72596-5bc9-4a3d-c970-7355861817a6"
      },
      "outputs": [
        {
          "output_type": "execute_result",
          "data": {
            "text/plain": [
              "0.015"
            ]
          },
          "metadata": {},
          "execution_count": 194
        }
      ],
      "source": [
        "mosfet.id_vd(vgs=3.0,vds=1.0)"
      ]
    },
    {
      "cell_type": "code",
      "execution_count": null,
      "id": "d65a680e-606e-4139-8531-32885031837e",
      "metadata": {
        "colab": {
          "base_uri": "https://localhost:8080/"
        },
        "id": "d65a680e-606e-4139-8531-32885031837e",
        "outputId": "8a1e387a-25c4-4967-e0b8-cc8fd8f043cb"
      },
      "outputs": [
        {
          "output_type": "execute_result",
          "data": {
            "text/plain": [
              "0.02"
            ]
          },
          "metadata": {},
          "execution_count": 195
        }
      ],
      "source": [
        "mosfet.id_vd(vgs=3.0,vds=3.0)"
      ]
    },
    {
      "cell_type": "code",
      "execution_count": null,
      "id": "e31cd2aa-ee63-43b7-b209-f484c52d4cae",
      "metadata": {
        "colab": {
          "base_uri": "https://localhost:8080/"
        },
        "id": "e31cd2aa-ee63-43b7-b209-f484c52d4cae",
        "outputId": "82124afc-a2e8-424c-e33a-4ea3ea5d4378"
      },
      "outputs": [
        {
          "output_type": "execute_result",
          "data": {
            "text/plain": [
              "0.02"
            ]
          },
          "metadata": {},
          "execution_count": 196
        }
      ],
      "source": [
        "mosfet.id_vd(vgs=3.0,vds=4.0)"
      ]
    },
    {
      "cell_type": "code",
      "execution_count": null,
      "id": "274e3726-4d2f-4a60-9af7-a1b55248d386",
      "metadata": {
        "colab": {
          "base_uri": "https://localhost:8080/",
          "height": 35
        },
        "id": "274e3726-4d2f-4a60-9af7-a1b55248d386",
        "outputId": "c5fd9add-0f45-4b2a-dd27-5fe35e95c313"
      },
      "outputs": [
        {
          "output_type": "execute_result",
          "data": {
            "text/plain": [
              "'ON'"
            ],
            "application/vnd.google.colaboratory.intrinsic+json": {
              "type": "string"
            }
          },
          "metadata": {},
          "execution_count": 197
        }
      ],
      "source": [
        "mosfet._state_"
      ]
    },
    {
      "cell_type": "code",
      "execution_count": null,
      "id": "495ce6c1-7eaf-4ee6-86be-9e6b6aeae709",
      "metadata": {
        "colab": {
          "base_uri": "https://localhost:8080/"
        },
        "id": "495ce6c1-7eaf-4ee6-86be-9e6b6aeae709",
        "outputId": "9965194a-5445-45bd-b83c-1ca8eec8f747"
      },
      "outputs": [
        {
          "output_type": "execute_result",
          "data": {
            "text/plain": [
              "66.689"
            ]
          },
          "metadata": {},
          "execution_count": 198
        }
      ],
      "source": [
        "mosfet.rdson(vgs=3.0,vds=0.5)"
      ]
    },
    {
      "cell_type": "code",
      "execution_count": null,
      "id": "d48f7296-08f1-471f-9503-570c9a582a99",
      "metadata": {
        "colab": {
          "base_uri": "https://localhost:8080/"
        },
        "id": "d48f7296-08f1-471f-9503-570c9a582a99",
        "outputId": "d3561bcc-b129-4ec7-e651-08116db0cb83"
      },
      "outputs": [
        {
          "output_type": "execute_result",
          "data": {
            "text/plain": [
              "71.454"
            ]
          },
          "metadata": {},
          "execution_count": 199
        }
      ],
      "source": [
        "mosfet.rdson(vgs=3.0,vds=0.6)"
      ]
    },
    {
      "cell_type": "code",
      "execution_count": null,
      "id": "094d1a06-bad8-45a0-a235-07c349651aac",
      "metadata": {
        "colab": {
          "base_uri": "https://localhost:8080/"
        },
        "id": "094d1a06-bad8-45a0-a235-07c349651aac",
        "outputId": "65e4e208-2069-4e83-8523-907a0fe7e229"
      },
      "outputs": [
        {
          "output_type": "execute_result",
          "data": {
            "text/plain": [
              "40.008"
            ]
          },
          "metadata": {},
          "execution_count": 200
        }
      ],
      "source": [
        "mosfet.rdson(vgs=5.0,vds=1.5)"
      ]
    },
    {
      "cell_type": "code",
      "execution_count": null,
      "id": "af6d9861-f7dc-455b-bf84-f3bd7457c4a5",
      "metadata": {
        "id": "af6d9861-f7dc-455b-bf84-f3bd7457c4a5"
      },
      "outputs": [],
      "source": [
        "ids = []\n",
        "mosfet = MOSFET()\n",
        "vds_vals = [0.01*i for i in range(1,501)]\n",
        "for v in vds_vals:\n",
        "    ids.append(mosfet.id_vd(vgs=3.0,vds=v,rounding=False))"
      ]
    },
    {
      "cell_type": "code",
      "execution_count": null,
      "id": "971fce0d-59f6-43fa-92f0-9115cf240fa9",
      "metadata": {
        "colab": {
          "base_uri": "https://localhost:8080/",
          "height": 463
        },
        "id": "971fce0d-59f6-43fa-92f0-9115cf240fa9",
        "outputId": "76a5988d-f2cd-42dd-bffb-f10e03f93265"
      },
      "outputs": [
        {
          "output_type": "display_data",
          "data": {
            "text/plain": [
              "<Figure size 720x480 with 1 Axes>"
            ],
            "image/png": "[encoded data removed]"
          },
          "metadata": {
            "needs_background": "light"
          }
        }
      ],
      "source": [
        "plt.figure(dpi=120)\n",
        "plt.plot(vds_vals,ids)\n",
        "plt.xlabel(\"Vds (V)\",fontsize=15)\n",
        "plt.ylabel(\"Ids (A)\",fontsize=15)\n",
        "plt.show()"
      ]
    },
    {
      "cell_type": "code",
      "execution_count": null,
      "id": "be30d2ff-60e0-4ec9-9074-00167a364aea",
      "metadata": {
        "colab": {
          "base_uri": "https://localhost:8080/",
          "height": 463
        },
        "id": "be30d2ff-60e0-4ec9-9074-00167a364aea",
        "outputId": "e7c4a228-4855-490a-e917-1a9fdfb58c48"
      },
      "outputs": [
        {
          "output_type": "display_data",
          "data": {
            "text/plain": [
              "<Figure size 720x480 with 1 Axes>"
            ],
            "image/png": "[encoded data removed]"
          },
          "metadata": {
            "needs_background": "light"
          }
        }
      ],
      "source": [
        "m = MOSFET()\n",
        "plt.figure(dpi=120)\n",
        "for vgs in [0.5,0.9,1.5,2.0,2.5]:\n",
        "    ids = []\n",
        "    vds_vals = [0.01*i for i in range(1,501)]\n",
        "    for v in vds_vals:\n",
        "        ids.append(m.id_vd(vgs=vgs,vds=v,rounding=False))\n",
        "    plt.plot(vds_vals,ids)\n",
        "plt.legend([\"Vgs = \"+str(v) for v in [0.5,0.9,1.5,2.0,2.5]])\n",
        "plt.xlabel(\"Vds (V)\",fontsize=15)\n",
        "plt.ylabel(\"Ids (A)\",fontsize=15)\n",
        "plt.show()"
      ]
    },
    {
      "cell_type": "markdown",
      "id": "0f82806f-e980-49d1-afde-9b19fb183c7a",
      "metadata": {
        "id": "0f82806f-e980-49d1-afde-9b19fb183c7a"
      },
      "source": [
        "## Sub-Vth leakage"
      ]
    },
    {
      "cell_type": "code",
      "execution_count": null,
      "id": "1e414fc8-be14-46b7-86d1-67c85b8648f3",
      "metadata": {
        "colab": {
          "base_uri": "https://localhost:8080/",
          "height": 35
        },
        "id": "1e414fc8-be14-46b7-86d1-67c85b8648f3",
        "outputId": "f34d8296-9407-4a50-9db2-b312731a527c"
      },
      "outputs": [
        {
          "output_type": "execute_result",
          "data": {
            "text/plain": [
              "'No data to train with'"
            ],
            "application/vnd.google.colaboratory.intrinsic+json": {
              "type": "string"
            }
          },
          "metadata": {},
          "execution_count": 204
        }
      ],
      "source": [
        "m.train_leakage()"
      ]
    },
    {
      "cell_type": "code",
      "execution_count": null,
      "id": "b1600ccd-9480-4700-9aa8-46f34dcea812",
      "metadata": {
        "colab": {
          "base_uri": "https://localhost:8080/",
          "height": 278
        },
        "id": "b1600ccd-9480-4700-9aa8-46f34dcea812",
        "outputId": "6034d7b3-e9b3-4715-d85f-e04f616d6771"
      },
      "outputs": [
        {
          "output_type": "display_data",
          "data": {
            "text/plain": [
              "<Figure size 432x288 with 1 Axes>"
            ],
            "image/png": "[encoded data removed]"
          },
          "metadata": {
            "needs_background": "light"
          }
        }
      ],
      "source": [
        "sub = []\n",
        "for i in range(100):\n",
        "    sub.append(sub_vth(w_l=1e-2,vgs=0.5,vth=1.0))\n",
        "\n",
        "plt.hist(sub,edgecolor='k')\n",
        "plt.show()"
      ]
    },
    {
      "cell_type": "code",
      "execution_count": null,
      "id": "831c2848-f152-4f11-9dfb-949b56a0b674",
      "metadata": {
        "colab": {
          "base_uri": "https://localhost:8080/",
          "height": 265
        },
        "id": "831c2848-f152-4f11-9dfb-949b56a0b674",
        "outputId": "b8452834-c462-4f27-c5e7-592aef61e335"
      },
      "outputs": [
        {
          "output_type": "display_data",
          "data": {
            "text/plain": [
              "<Figure size 432x288 with 1 Axes>"
            ],
            "image/png": "[encoded data removed]"
          },
          "metadata": {
            "needs_background": "light"
          }
        }
      ],
      "source": [
        "sub = []\n",
        "vgs = []\n",
        "for i in range(100):\n",
        "    sub.append(sub_vth(w_l=1e-2,vgs=i*0.01,vth=1.0))\n",
        "    vgs.append(i*0.01)\n",
        "\n",
        "plt.semilogy(vgs,sub)\n",
        "plt.show()"
      ]
    },
    {
      "cell_type": "markdown",
      "id": "26c5aed7-bbbd-4048-825a-1ddb482d2ac2",
      "metadata": {
        "id": "26c5aed7-bbbd-4048-825a-1ddb482d2ac2"
      },
      "source": [
        "### Synthetic leakage data"
      ]
    },
    {
      "cell_type": "code",
      "execution_count": null,
      "id": "e188e247-f6b2-463e-8f2d-556af5afbb21",
      "metadata": {
        "id": "e188e247-f6b2-463e-8f2d-556af5afbb21"
      },
      "outputs": [],
      "source": [
        "from itertools import product"
      ]
    },
    {
      "cell_type": "code",
      "execution_count": null,
      "id": "f55a9b8f-0200-482d-a636-d17c03ffd584",
      "metadata": {
        "id": "f55a9b8f-0200-482d-a636-d17c03ffd584"
      },
      "outputs": [],
      "source": [
        "w_l_list = [1e-3*i for i in range(1,21)]\n",
        "vgs_list = [0.01*i for i in range(1,91)]\n",
        "vth_list = [0.05*i for i in range(21,31)]"
      ]
    },
    {
      "cell_type": "code",
      "execution_count": null,
      "id": "37f31a79-d308-4aee-8441-b2bcaf431b2b",
      "metadata": {
        "id": "37f31a79-d308-4aee-8441-b2bcaf431b2b"
      },
      "outputs": [],
      "source": [
        "comb = list(product(w_l_list,vgs_list,vth_list))"
      ]
    },
    {
      "cell_type": "code",
      "execution_count": null,
      "id": "70b45002-6271-4dec-b1e2-ffa9e177c51a",
      "metadata": {
        "id": "70b45002-6271-4dec-b1e2-ffa9e177c51a"
      },
      "outputs": [],
      "source": [
        "data_dict = {'w_l':[],'vgs':[],'vth':[],'sub-vth':[]}\n",
        "for c in comb:\n",
        "    data_dict['w_l'].append(c[0])\n",
        "    data_dict['vgs'].append(c[1])\n",
        "    data_dict['vth'].append(c[2])\n",
        "    data_dict['sub-vth'].append(sub_vth(c[0],c[1],c[2]))"
      ]
    },
    {
      "cell_type": "code",
      "execution_count": null,
      "id": "895de17b-86ce-4717-8620-0645e0e8dcff",
      "metadata": {
        "id": "895de17b-86ce-4717-8620-0645e0e8dcff"
      },
      "outputs": [],
      "source": [
        "import pandas as pd\n",
        "df = pd.DataFrame(data=data_dict,columns=['w_l','vgs','vth','sub-vth'])"
      ]
    },
    {
      "cell_type": "code",
      "execution_count": null,
      "id": "015afa45-3f11-4dae-be36-5ca87674cb7a",
      "metadata": {
        "colab": {
          "base_uri": "https://localhost:8080/",
          "height": 175
        },
        "id": "015afa45-3f11-4dae-be36-5ca87674cb7a",
        "outputId": "4c125ca3-10c3-40fc-ef9e-0667915936e3"
      },
      "outputs": [
        {
          "output_type": "execute_result",
          "data": {
            "text/plain": [
              "                8006          11903         1405          11179         8868   \\\n",
              "w_l      9.000000e-03  1.400000e-02  2.000000e-03  1.300000e-02  1.000000e-02   \n",
              "vgs      8.100000e-01  2.100000e-01  5.100000e-01  3.800000e-01  7.700000e-01   \n",
              "vth      1.350000e+00  1.200000e+00  1.300000e+00  1.500000e+00  1.450000e+00   \n",
              "sub-vth  2.684582e-10  1.504563e-16  1.578615e-14  2.455066e-18  2.321042e-12   \n",
              "\n",
              "                5612          12001  \n",
              "w_l      7.000000e-03  1.400000e-02  \n",
              "vgs      2.200000e-01  3.100000e-01  \n",
              "vth      1.150000e+00  1.100000e+00  \n",
              "sub-vth  6.176563e-16  1.165271e-13  "
            ],
            "text/html": [
              "\n",
              "  <div id=\"df-934a9efd-7997-42ab-befc-7207aa89498f\">\n",
              "    <div class=\"colab-df-container\">\n",
              "      <div>\n",
              "<style scoped>\n",
              "    .dataframe tbody tr th:only-of-type {\n",
              "        vertical-align: middle;\n",
              "    }\n",
              "\n",
              "    .dataframe tbody tr th {\n",
              "        vertical-align: top;\n",
              "    }\n",
              "\n",
              "    .dataframe thead th {\n",
              "        text-align: right;\n",
              "    }\n",
              "</style>\n",
              "<table border=\"1\" class=\"dataframe\">\n",
              "  <thead>\n",
              "    <tr style=\"text-align: right;\">\n",
              "      <th></th>\n",
              "      <th>8006</th>\n",
              "      <th>11903</th>\n",
              "      <th>1405</th>\n",
              "      <th>11179</th>\n",
              "      <th>8868</th>\n",
              "      <th>5612</th>\n",
              "      <th>12001</th>\n",
              "    </tr>\n",
              "  </thead>\n",
              "  <tbody>\n",
              "    <tr>\n",
              "      <th>w_l</th>\n",
              "      <td>9.000000e-03</td>\n",
              "      <td>1.400000e-02</td>\n",
              "      <td>2.000000e-03</td>\n",
              "      <td>1.300000e-02</td>\n",
              "      <td>1.000000e-02</td>\n",
              "      <td>7.000000e-03</td>\n",
              "      <td>1.400000e-02</td>\n",
              "    </tr>\n",
              "    <tr>\n",
              "      <th>vgs</th>\n",
              "      <td>8.100000e-01</td>\n",
              "      <td>2.100000e-01</td>\n",
              "      <td>5.100000e-01</td>\n",
              "      <td>3.800000e-01</td>\n",
              "      <td>7.700000e-01</td>\n",
              "      <td>2.200000e-01</td>\n",
              "      <td>3.100000e-01</td>\n",
              "    </tr>\n",
              "    <tr>\n",
              "      <th>vth</th>\n",
              "      <td>1.350000e+00</td>\n",
              "      <td>1.200000e+00</td>\n",
              "      <td>1.300000e+00</td>\n",
              "      <td>1.500000e+00</td>\n",
              "      <td>1.450000e+00</td>\n",
              "      <td>1.150000e+00</td>\n",
              "      <td>1.100000e+00</td>\n",
              "    </tr>\n",
              "    <tr>\n",
              "      <th>sub-vth</th>\n",
              "      <td>2.684582e-10</td>\n",
              "      <td>1.504563e-16</td>\n",
              "      <td>1.578615e-14</td>\n",
              "      <td>2.455066e-18</td>\n",
              "      <td>2.321042e-12</td>\n",
              "      <td>6.176563e-16</td>\n",
              "      <td>1.165271e-13</td>\n",
              "    </tr>\n",
              "  </tbody>\n",
              "</table>\n",
              "</div>\n",
              "      <button class=\"colab-df-convert\" onclick=\"convertToInteractive('df-934a9efd-7997-42ab-befc-7207aa89498f')\"\n",
              "              title=\"Convert this dataframe to an interactive table.\"\n",
              "              style=\"display:none;\">\n",
              "        \n",
              "  <svg xmlns=\"http://www.w3.org/2000/svg\" height=\"24px\"viewBox=\"0 0 24 24\"\n",
              "       width=\"24px\">\n",
              "    <path d=\"M0 0h24v24H0V0z\" fill=\"none\"/>\n",
              "    <path d=\"M18.56 5.44l.94 2.06.94-2.06 2.06-.94-2.06-.94-.94-2.06-.94 2.06-2.06.94zm-11 1L8.5 8.5l.94-2.06 2.06-.94-2.06-.94L8.5 2.5l-.94 2.06-2.06.94zm10 10l.94 2.06.94-2.06 2.06-.94-2.06-.94-.94-2.06-.94 2.06-2.06.94z\"/><path d=\"M17.41 7.96l-1.37-1.37c-.4-.4-.92-.59-1.43-.59-.52 0-1.04.2-1.43.59L10.3 9.45l-7.72 7.72c-.78.78-.78 2.05 0 2.83L4 21.41c.39.39.9.59 1.41.59.51 0 1.02-.2 1.41-.59l7.78-7.78 2.81-2.81c.8-.78.8-2.07 0-2.86zM5.41 20L4 18.59l7.72-7.72 1.47 1.35L5.41 20z\"/>\n",
              "  </svg>\n",
              "      </button>\n",
              "      \n",
              "  <style>\n",
              "    .colab-df-container {\n",
              "      display:flex;\n",
              "      flex-wrap:wrap;\n",
              "      gap: 12px;\n",
              "    }\n",
              "\n",
              "    .colab-df-convert {\n",
              "      background-color: #E8F0FE;\n",
              "      border: none;\n",
              "      border-radius: 50%;\n",
              "      cursor: pointer;\n",
              "      display: none;\n",
              "      fill: #1967D2;\n",
              "      height: 32px;\n",
              "      padding: 0 0 0 0;\n",
              "      width: 32px;\n",
              "    }\n",
              "\n",
              "    .colab-df-convert:hover {\n",
              "      background-color: #E2EBFA;\n",
              "      box-shadow: 0px 1px 2px rgba(60, 64, 67, 0.3), 0px 1px 3px 1px rgba(60, 64, 67, 0.15);\n",
              "      fill: #174EA6;\n",
              "    }\n",
              "\n",
              "    [theme=dark] .colab-df-convert {\n",
              "      background-color: #3B4455;\n",
              "      fill: #D2E3FC;\n",
              "    }\n",
              "\n",
              "    [theme=dark] .colab-df-convert:hover {\n",
              "      background-color: #434B5C;\n",
              "      box-shadow: 0px 1px 3px 1px rgba(0, 0, 0, 0.15);\n",
              "      filter: drop-shadow(0px 1px 2px rgba(0, 0, 0, 0.3));\n",
              "      fill: #FFFFFF;\n",
              "    }\n",
              "  </style>\n",
              "\n",
              "      <script>\n",
              "        const buttonEl =\n",
              "          document.querySelector('#df-934a9efd-7997-42ab-befc-7207aa89498f button.colab-df-convert');\n",
              "        buttonEl.style.display =\n",
              "          google.colab.kernel.accessAllowed ? 'block' : 'none';\n",
              "\n",
              "        async function convertToInteractive(key) {\n",
              "          const element = document.querySelector('#df-934a9efd-7997-42ab-befc-7207aa89498f');\n",
              "          const dataTable =\n",
              "            await google.colab.kernel.invokeFunction('convertToInteractive',\n",
              "                                                     [key], {});\n",
              "          if (!dataTable) return;\n",
              "\n",
              "          const docLinkHtml = 'Like what you see? Visit the ' +\n",
              "            '<a target=\"_blank\" href=https://colab.research.google.com/notebooks/data_table.ipynb>data table notebook</a>'\n",
              "            + ' to learn more about interactive tables.';\n",
              "          element.innerHTML = '';\n",
              "          dataTable['output_type'] = 'display_data';\n",
              "          await google.colab.output.renderOutput(dataTable, element);\n",
              "          const docLink = document.createElement('div');\n",
              "          docLink.innerHTML = docLinkHtml;\n",
              "          element.appendChild(docLink);\n",
              "        }\n",
              "      </script>\n",
              "    </div>\n",
              "  </div>\n",
              "  "
            ]
          },
          "metadata": {},
          "execution_count": 212
        }
      ],
      "source": [
        "df.sample(7).T"
      ]
    },
    {
      "cell_type": "code",
      "execution_count": null,
      "id": "782e6934-1a20-48f0-b619-b79ac2f72ebf",
      "metadata": {
        "id": "782e6934-1a20-48f0-b619-b79ac2f72ebf"
      },
      "outputs": [],
      "source": [
        "df['log-leakage'] = -np.log10(df['sub-vth'])"
      ]
    },
    {
      "cell_type": "markdown",
      "id": "e610aacd-b4c5-4035-a7e2-24ddd5d74414",
      "metadata": {
        "id": "e610aacd-b4c5-4035-a7e2-24ddd5d74414"
      },
      "source": [
        "## Training leakage model"
      ]
    },
    {
      "cell_type": "code",
      "execution_count": null,
      "id": "044badd8-c358-4dc3-bb8b-8740c55e7d2e",
      "metadata": {
        "colab": {
          "base_uri": "https://localhost:8080/"
        },
        "id": "044badd8-c358-4dc3-bb8b-8740c55e7d2e",
        "outputId": "dbfa292f-12b7-4600-c2cd-f28ed438f71e"
      },
      "outputs": [
        {
          "output_type": "stream",
          "name": "stderr",
          "text": [
            "WARNING:absl:`lr` is deprecated, please use `learning_rate` instead, or use the legacy optimizer, e.g.,tf.keras.optimizers.legacy.Adam.\n"
          ]
        },
        {
          "output_type": "stream",
          "name": "stdout",
          "text": [
            "Epoch 1/20\n",
            "2520/2520 [==============================] - 6s 2ms/step - loss: 7.6196 - mse: 7.6196\n",
            "Epoch 2/20\n",
            "2520/2520 [==============================] - 6s 2ms/step - loss: 0.0169 - mse: 0.0169\n",
            "Epoch 3/20\n",
            "2520/2520 [==============================] - 5s 2ms/step - loss: 0.0206 - mse: 0.0206\n",
            "Epoch 4/20\n",
            "2520/2520 [==============================] - 5s 2ms/step - loss: 0.0196 - mse: 0.0196\n",
            "Epoch 5/20\n",
            "2520/2520 [==============================] - 5s 2ms/step - loss: 0.0185 - mse: 0.0185\n",
            "Epoch 6/20\n",
            "2520/2520 [==============================] - 5s 2ms/step - loss: 0.0194 - mse: 0.0194\n",
            "Epoch 7/20\n",
            "2520/2520 [==============================] - 6s 2ms/step - loss: 0.0199 - mse: 0.0199\n",
            "Epoch 8/20\n",
            "2520/2520 [==============================] - 5s 2ms/step - loss: 0.0193 - mse: 0.0193\n",
            "Epoch 9/20\n",
            "2520/2520 [==============================] - 5s 2ms/step - loss: 0.0191 - mse: 0.0191\n",
            "Epoch 10/20\n",
            "2520/2520 [==============================] - 5s 2ms/step - loss: 0.0187 - mse: 0.0187\n",
            "Epoch 11/20\n",
            "2520/2520 [==============================] - 5s 2ms/step - loss: 0.0181 - mse: 0.0181\n",
            "Epoch 12/20\n",
            "2520/2520 [==============================] - 6s 2ms/step - loss: 0.0182 - mse: 0.0182\n",
            "Epoch 13/20\n",
            "2520/2520 [==============================] - 5s 2ms/step - loss: 0.0189 - mse: 0.0189\n",
            "Epoch 14/20\n",
            "2520/2520 [==============================] - 5s 2ms/step - loss: 0.0176 - mse: 0.0176\n",
            "Epoch 15/20\n",
            "2520/2520 [==============================] - 6s 2ms/step - loss: 0.0176 - mse: 0.0176\n",
            "Epoch 16/20\n",
            "2520/2520 [==============================] - 5s 2ms/step - loss: 0.0173 - mse: 0.0173\n",
            "Epoch 17/20\n",
            "2520/2520 [==============================] - 6s 2ms/step - loss: 0.0177 - mse: 0.0177\n",
            "Epoch 18/20\n",
            "2520/2520 [==============================] - 5s 2ms/step - loss: 0.0173 - mse: 0.0173\n",
            "Epoch 19/20\n",
            "2520/2520 [==============================] - 5s 2ms/step - loss: 0.0171 - mse: 0.0171\n",
            "Epoch 20/20\n",
            "2520/2520 [==============================] - 6s 2ms/step - loss: 0.0176 - mse: 0.0176\n"
          ]
        }
      ],
      "source": [
        "import tensorflow as tf\n",
        "import numpy as np\n",
        "from sklearn.model_selection import train_test_split\n",
        "from sklearn.preprocessing import MinMaxScaler, StandardScaler\n",
        "\n",
        "\n",
        "def prepare_data(df, input_cols,output_var,test_size=0.3,scaley=False):\n",
        "    \"\"\"\n",
        "    \"\"\"\n",
        "    df1 = df.copy()\n",
        "    X = df1[input_cols]\n",
        "    y = df1[str(output_var)]\n",
        "    X_train, X_test, y_train, y_test = train_test_split(X, y, test_size=test_size)\n",
        "\n",
        "    # Min-max scaler from Scikit-learn\n",
        "    scalerx = MinMaxScaler()\n",
        "    scalery = MinMaxScaler()\n",
        "    X_train_scaled = scalerx.fit_transform(X_train)\n",
        "    X_test_scaled = scalerx.fit_transform(X_test)\n",
        "    if scaley == True:\n",
        "        y_train_scaled = scalery.fit_transform(y_train.values.reshape(-1, 1))\n",
        "        y_test_scaled = scalery.fit_transform(y_test.values.reshape(-1, 1))\n",
        "    else:\n",
        "        y_train_scaled = y_train.values.reshape(-1, 1)\n",
        "        y_test_scaled = y_test.values.reshape(-1, 1)\n",
        "\n",
        "    return (X_train_scaled, X_test_scaled, y_train_scaled, y_test_scaled)\n",
        "\n",
        "\n",
        "def build_model(num_layers=1, architecture=[32],act_func='relu',\n",
        "                input_dim=2, output_class=10):\n",
        "  \"\"\"\n",
        "  Builds a densely connected neural network model from user input\n",
        "  num_layers: Number of hidden layers\n",
        "  architecture: Architecture of the hidden layers (densely connected)\n",
        "  act_func: Activation function. Could be 'relu', 'sigmoid', or 'tanh'.\n",
        "  input_shape: Dimension of the input vector\n",
        "  output_class: Number of classes in the output vector\n",
        "  \"\"\"\n",
        "  layers=[tf.keras.layers.Dense(input_dim,input_dim=input_dim)]\n",
        "  if act_func=='relu':\n",
        "    activation=tf.nn.relu\n",
        "  elif act_func=='sigmoid':\n",
        "    activation=tf.nn.sigmoid\n",
        "  elif act_func=='tanh':\n",
        "    activation=tf.nn.tanh\n",
        "\n",
        "  for i in range(num_layers):\n",
        "    layers.append(tf.keras.layers.Dense(architecture[i], activation=tf.nn.relu))\n",
        "  layers.append(tf.keras.layers.Dense(1))\n",
        "\n",
        "  model = tf.keras.models.Sequential(layers)\n",
        "  return model\n",
        "\n",
        "\n",
        "def compile_train_model(model,x_train, y_train, callbacks=None,\n",
        "                        learning_rate=0.001,batch_size=1,epochs=10,verbose=0):\n",
        "  \"\"\"\n",
        "  Compiles and trains a given Keras model with the given data.\n",
        "  Assumes Adam optimizer for this implementation.\n",
        "\n",
        "  learning_rate: Learning rate for the optimizer Adam\n",
        "  batch_size: Batch size for the mini-batch optimization\n",
        "  epochs: Number of epochs to train\n",
        "  verbose: Verbosity of the training process\n",
        "  \"\"\"\n",
        "\n",
        "  model_copy = model\n",
        "  model_copy.compile(optimizer=tf.keras.optimizers.Adam(lr=learning_rate),\n",
        "                     loss=\"mse\", metrics=[\"mse\"])\n",
        "\n",
        "  if callbacks is not None:\n",
        "        model_copy.fit(x_train, y_train, epochs=epochs, batch_size=batch_size,\n",
        "                 callbacks=[callbacks],verbose=verbose)\n",
        "  else:\n",
        "    model_copy.fit(x_train, y_train, epochs=epochs, batch_size=batch_size,\n",
        "                   verbose=verbose)\n",
        "  return model_copy\n",
        "\n",
        "mosfet.train_leakage(df)"
      ]
    },
    {
      "cell_type": "code",
      "execution_count": null,
      "id": "bd7b0ca5-986d-4e81-9e88-652d95a87ee5",
      "metadata": {
        "id": "bd7b0ca5-986d-4e81-9e88-652d95a87ee5"
      },
      "outputs": [],
      "source": [
        "m1_trained = mosfet.leakage_model"
      ]
    },
    {
      "cell_type": "code",
      "execution_count": null,
      "id": "7f41a5ef-8759-4bec-8e7a-830e87590a62",
      "metadata": {
        "colab": {
          "base_uri": "https://localhost:8080/",
          "height": 265
        },
        "id": "7f41a5ef-8759-4bec-8e7a-830e87590a62",
        "outputId": "aa2d132d-a6c9-46d1-d91c-e4029abe818e"
      },
      "outputs": [
        {
          "output_type": "display_data",
          "data": {
            "text/plain": [
              "<Figure size 432x288 with 1 Axes>"
            ],
            "image/png": "[encoded data removed]"
          },
          "metadata": {
            "needs_background": "light"
          }
        }
      ],
      "source": [
        "plt.plot(np.sqrt(m1_trained.history.history['mse']))\n",
        "plt.show()"
      ]
    },
    {
      "cell_type": "code",
      "execution_count": null,
      "id": "d4cfabc1-314a-4b65-a222-08c30143c964",
      "metadata": {
        "colab": {
          "base_uri": "https://localhost:8080/"
        },
        "id": "d4cfabc1-314a-4b65-a222-08c30143c964",
        "outputId": "f4c68226-9ef8-44fb-b57c-0b547ad67cf1"
      },
      "outputs": [
        {
          "output_type": "stream",
          "name": "stdout",
          "text": [
            "1/1 [==============================] - 0s 89ms/step\n"
          ]
        },
        {
          "output_type": "execute_result",
          "data": {
            "text/plain": [
              "9.405688166639408e-25"
            ]
          },
          "metadata": {},
          "execution_count": 217
        }
      ],
      "source": [
        "mosfet.leakage()"
      ]
    },
    {
      "cell_type": "code",
      "execution_count": null,
      "id": "0e71afe1-76d4-4167-be39-c88b49a1aebd",
      "metadata": {
        "colab": {
          "base_uri": "https://localhost:8080/"
        },
        "id": "0e71afe1-76d4-4167-be39-c88b49a1aebd",
        "outputId": "28fd6a27-e60e-4bf0-c751-9e11df1a863f"
      },
      "outputs": [
        {
          "output_type": "stream",
          "name": "stdout",
          "text": [
            "1/1 [==============================] - 0s 30ms/step\n"
          ]
        },
        {
          "output_type": "execute_result",
          "data": {
            "text/plain": [
              "7.55001462282405e-15"
            ]
          },
          "metadata": {},
          "execution_count": 218
        }
      ],
      "source": [
        "mosfet.leakage(w_l=1e-1,vgs=0.75)"
      ]
    },
    {
      "cell_type": "code",
      "execution_count": null,
      "id": "332077bf-51d3-450d-93e7-44c38242d76f",
      "metadata": {
        "id": "332077bf-51d3-450d-93e7-44c38242d76f"
      },
      "outputs": [],
      "source": [
        "mosfet._terminals_['gate']=0.8"
      ]
    },
    {
      "cell_type": "code",
      "execution_count": null,
      "id": "03d11fdf-4ea6-40e9-9c50-812a12523520",
      "metadata": {
        "colab": {
          "base_uri": "https://localhost:8080/"
        },
        "id": "03d11fdf-4ea6-40e9-9c50-812a12523520",
        "outputId": "b73412d9-e1fd-478a-a96f-52018ee15c3f"
      },
      "outputs": [
        {
          "output_type": "stream",
          "name": "stdout",
          "text": [
            "1/1 [==============================] - 0s 30ms/step\n"
          ]
        },
        {
          "output_type": "execute_result",
          "data": {
            "text/plain": [
              "2.097541568603714e-13"
            ]
          },
          "metadata": {},
          "execution_count": 220
        }
      ],
      "source": [
        "mosfet.leakage(w_l=1)"
      ]
    },
    {
      "cell_type": "code",
      "execution_count": null,
      "id": "a85b6649-0289-41bd-a402-12d9173aab8e",
      "metadata": {
        "colab": {
          "base_uri": "https://localhost:8080/",
          "height": 1000
        },
        "id": "a85b6649-0289-41bd-a402-12d9173aab8e",
        "outputId": "194cde29-8638-4541-f378-3aec4f298346"
      },
      "outputs": [
        {
          "output_type": "stream",
          "name": "stdout",
          "text": [
            "1/1 [==============================] - 0s 31ms/step\n",
            "1/1 [==============================] - 0s 31ms/step\n",
            "1/1 [==============================] - 0s 31ms/step\n",
            "1/1 [==============================] - 0s 34ms/step\n",
            "1/1 [==============================] - 0s 32ms/step\n",
            "1/1 [==============================] - 0s 37ms/step\n",
            "1/1 [==============================] - 0s 30ms/step\n",
            "1/1 [==============================] - 0s 36ms/step\n",
            "1/1 [==============================] - 0s 32ms/step\n",
            "1/1 [==============================] - 0s 33ms/step\n",
            "1/1 [==============================] - 0s 38ms/step\n",
            "1/1 [==============================] - 0s 33ms/step\n",
            "1/1 [==============================] - 0s 30ms/step\n",
            "1/1 [==============================] - 0s 40ms/step\n",
            "1/1 [==============================] - 0s 32ms/step\n",
            "1/1 [==============================] - 0s 31ms/step\n",
            "1/1 [==============================] - 0s 29ms/step\n",
            "1/1 [==============================] - 0s 32ms/step\n",
            "1/1 [==============================] - 0s 33ms/step\n",
            "1/1 [==============================] - 0s 32ms/step\n",
            "1/1 [==============================] - 0s 57ms/step\n",
            "1/1 [==============================] - 0s 44ms/step\n",
            "1/1 [==============================] - 0s 43ms/step\n",
            "1/1 [==============================] - 0s 48ms/step\n",
            "1/1 [==============================] - 0s 43ms/step\n",
            "1/1 [==============================] - 0s 47ms/step\n",
            "1/1 [==============================] - 0s 43ms/step\n",
            "1/1 [==============================] - 0s 42ms/step\n",
            "1/1 [==============================] - 0s 54ms/step\n",
            "1/1 [==============================] - 0s 45ms/step\n",
            "1/1 [==============================] - 0s 54ms/step\n",
            "1/1 [==============================] - 0s 46ms/step\n",
            "1/1 [==============================] - 0s 40ms/step\n",
            "1/1 [==============================] - 0s 39ms/step\n",
            "1/1 [==============================] - 0s 42ms/step\n",
            "1/1 [==============================] - 0s 37ms/step\n",
            "1/1 [==============================] - 0s 64ms/step\n",
            "1/1 [==============================] - 0s 43ms/step\n",
            "1/1 [==============================] - 0s 40ms/step\n",
            "1/1 [==============================] - 0s 40ms/step\n",
            "1/1 [==============================] - 0s 44ms/step\n",
            "1/1 [==============================] - 0s 24ms/step\n",
            "1/1 [==============================] - 0s 25ms/step\n",
            "1/1 [==============================] - 0s 25ms/step\n",
            "1/1 [==============================] - 0s 26ms/step\n",
            "1/1 [==============================] - 0s 29ms/step\n",
            "1/1 [==============================] - 0s 29ms/step\n",
            "1/1 [==============================] - 0s 25ms/step\n",
            "1/1 [==============================] - 0s 26ms/step\n",
            "1/1 [==============================] - 0s 26ms/step\n",
            "1/1 [==============================] - 0s 26ms/step\n",
            "1/1 [==============================] - 0s 25ms/step\n",
            "1/1 [==============================] - 0s 27ms/step\n",
            "1/1 [==============================] - 0s 24ms/step\n",
            "1/1 [==============================] - 0s 27ms/step\n",
            "1/1 [==============================] - 0s 27ms/step\n",
            "1/1 [==============================] - 0s 31ms/step\n",
            "1/1 [==============================] - 0s 25ms/step\n",
            "1/1 [==============================] - 0s 25ms/step\n",
            "1/1 [==============================] - 0s 25ms/step\n",
            "1/1 [==============================] - 0s 25ms/step\n",
            "1/1 [==============================] - 0s 27ms/step\n",
            "1/1 [==============================] - 0s 30ms/step\n",
            "1/1 [==============================] - 0s 24ms/step\n",
            "1/1 [==============================] - 0s 25ms/step\n",
            "1/1 [==============================] - 0s 25ms/step\n",
            "1/1 [==============================] - 0s 25ms/step\n",
            "1/1 [==============================] - 0s 26ms/step\n",
            "1/1 [==============================] - 0s 25ms/step\n",
            "1/1 [==============================] - 0s 24ms/step\n",
            "1/1 [==============================] - 0s 23ms/step\n",
            "1/1 [==============================] - 0s 38ms/step\n",
            "1/1 [==============================] - 0s 27ms/step\n",
            "1/1 [==============================] - 0s 26ms/step\n",
            "1/1 [==============================] - 0s 24ms/step\n",
            "1/1 [==============================] - 0s 31ms/step\n",
            "1/1 [==============================] - 0s 23ms/step\n",
            "1/1 [==============================] - 0s 25ms/step\n",
            "1/1 [==============================] - 0s 31ms/step\n",
            "1/1 [==============================] - 0s 25ms/step\n",
            "1/1 [==============================] - 0s 25ms/step\n",
            "1/1 [==============================] - 0s 36ms/step\n",
            "1/1 [==============================] - 0s 26ms/step\n",
            "1/1 [==============================] - 0s 24ms/step\n",
            "1/1 [==============================] - 0s 24ms/step\n",
            "1/1 [==============================] - 0s 24ms/step\n",
            "1/1 [==============================] - 0s 25ms/step\n",
            "1/1 [==============================] - 0s 24ms/step\n",
            "1/1 [==============================] - 0s 26ms/step\n",
            "1/1 [==============================] - 0s 25ms/step\n",
            "1/1 [==============================] - 0s 26ms/step\n",
            "1/1 [==============================] - 0s 24ms/step\n",
            "1/1 [==============================] - 0s 27ms/step\n",
            "1/1 [==============================] - 0s 24ms/step\n",
            "1/1 [==============================] - 0s 26ms/step\n",
            "1/1 [==============================] - 0s 25ms/step\n",
            "1/1 [==============================] - 0s 25ms/step\n",
            "1/1 [==============================] - 0s 24ms/step\n",
            "1/1 [==============================] - 0s 26ms/step\n",
            "1/1 [==============================] - 0s 25ms/step\n"
          ]
        },
        {
          "output_type": "display_data",
          "data": {
            "text/plain": [
              "<Figure size 432x288 with 1 Axes>"
            ],
            "image/png": "[encoded data removed]"
          },
          "metadata": {
            "needs_background": "light"
          }
        }
      ],
      "source": [
        "sub = []\n",
        "vgs = []\n",
        "for i in range(100):\n",
        "    sub.append(mosfet.leakage(w_l=1e-2,vgs=i*0.01,vth=1.0))\n",
        "    vgs.append(i*0.01)\n",
        "\n",
        "plt.semilogy(vgs,sub)\n",
        "plt.show()"
      ]
    },
    {
      "cell_type": "code",
      "execution_count": null,
      "id": "d8281c32-4f94-48ae-9847-a92b4cabe83e",
      "metadata": {
        "id": "d8281c32-4f94-48ae-9847-a92b4cabe83e"
      },
      "outputs": [],
      "source": [
        "mosfet = MOSFET(terminals={'source':0.0,\n",
        "            'drain':0.0,\n",
        "            'gate':2.0})"
      ]
    },
    {
      "cell_type": "code",
      "execution_count": null,
      "id": "db14d0cf-6941-4fba-b373-1a7dae8971db",
      "metadata": {
        "id": "db14d0cf-6941-4fba-b373-1a7dae8971db"
      },
      "outputs": [],
      "source": [
        "%%capture\n",
        "mosfet.leakage()"
      ]
    },
    {
      "cell_type": "code",
      "execution_count": null,
      "id": "1f0e948f",
      "metadata": {
        "id": "1f0e948f",
        "colab": {
          "base_uri": "https://localhost:8080/"
        },
        "outputId": "6387d961-ac5d-4c58-aa42-96860804867d"
      },
      "outputs": [
        {
          "output_type": "stream",
          "name": "stdout",
          "text": [
            "Switching Loss = 0.06 W\n"
          ]
        }
      ],
      "source": [
        "####### Analytical model for Switching losss Novelty #######\n",
        "import math\n",
        "\n",
        "# Define MOSFET parameters\n",
        "Vds = 100 # Drain-to-Source Voltage (V)\n",
        "Vgs = 10 # Gate-to-Source Voltage (V)\n",
        "Id = 5 # Drain Current (A)\n",
        "Vth = 4 # Threshold Voltage (V)\n",
        "Coss = 1000e-12 # Output Capacitance (F)\n",
        "Rg = 50 # Gate Resistance (ohms)\n",
        "Ton = 50e-9 # Turn-On Time (s)\n",
        "Toff = 100e-9 # Turn-Off Time (s)\n",
        "Fsw = 100e3 # Switching Frequency (Hz)\n",
        "\n",
        "# Calculate the switching loss\n",
        "Qg = Coss * Vgs # Gate Charge (C)\n",
        "Eon = 0.5 * Qg * Vgs # Turn-On Energy (J)\n",
        "Eoff = 0.5 * Qg * Vds # Turn-Off Energy (J)\n",
        "Psw = (Eon + Eoff) * Fsw # Switching Loss (W)\n",
        "\n",
        "# Print the results\n",
        "print(\"Switching Loss = %.2f W\" % Psw)\n"
      ]
    },
    {
      "cell_type": "code",
      "execution_count": null,
      "id": "d406c64f",
      "metadata": {
        "id": "d406c64f"
      },
      "outputs": [],
      "source": []
    }
  ],
  "metadata": {
    "kernelspec": {
      "display_name": "Python 3 (ipykernel)",
      "language": "python",
      "name": "python3"
    },
    "language_info": {
      "codemirror_mode": {
        "name": "ipython",
        "version": 3
      },
      "file_extension": ".py",
      "mimetype": "text/x-python",
      "name": "python",
      "nbconvert_exporter": "python",
      "pygments_lexer": "ipython3",
      "version": "3.10.6"
    },
    "colab": {
      "provenance": []
    }
  },
  "nbformat": 4,
  "nbformat_minor": 5
}